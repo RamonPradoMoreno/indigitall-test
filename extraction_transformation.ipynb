{
 "cells": [
  {
   "cell_type": "markdown",
   "metadata": {},
   "source": [
    "# Problem Solution\n",
    "This script will attempt to solve the problem explained in the `TODO.md` file. It will be focused only in the first section, \"Objetivo 1: lectura y tratamiento\".\n"
   ]
  },
  {
   "cell_type": "markdown",
   "metadata": {},
   "source": [
    "### Step 1: Download the data\n",
    "First we will try to download the raw data from 2018."
   ]
  },
  {
   "cell_type": "code",
   "execution_count": 19,
   "metadata": {},
   "outputs": [],
   "source": [
    "import sys"
   ]
  },
  {
   "cell_type": "code",
   "execution_count": 21,
   "metadata": {},
   "outputs": [
    {
     "name": "stdout",
     "output_type": "stream",
     "text": [
      "   PROVINCIA  MUNICIPIO  ESTACION  MAGNITUD PUNTO_MUESTREO   ANO  MES  D01  \\\n",
      "0         28         79         4         1  28079004_1_38  2018    1  1.0   \n",
      "1         28         79         4         1  28079004_1_38  2018    2  5.0   \n",
      "2         28         79         4         1  28079004_1_38  2018    3  1.0   \n",
      "3         28         79         4         1  28079004_1_38  2018    4  2.0   \n",
      "4         28         79         4         1  28079004_1_38  2018    5  2.0   \n",
      "\n",
      "  V01  D02  ...  D27  V27  D28  V28  D29  V29  D30  V30  D31  V31  \n",
      "0   V  1.0  ...  2.0    V  2.0    V  6.0    V  5.0    V  6.0    V  \n",
      "1   V  3.0  ...  3.0    V  2.0    V  0.0    N  0.0    N  0.0    N  \n",
      "2   V  2.0  ...  2.0    V  4.0    V  2.0    V  2.0    V  2.0    V  \n",
      "3   V  3.0  ...  1.0    V  2.0    V  2.0    V  2.0    V  0.0    N  \n",
      "4   V  2.0  ...  2.0    V  2.0    V  3.0    V  2.0    V  2.0    V  \n",
      "\n",
      "[5 rows x 69 columns]\n"
     ]
    }
   ],
   "source": [
    "import pandas as pd\n",
    "url = r'https://datos.madrid.es/egob/catalogo/201410-7775096-calidad-aire-diario.csv'\n",
    "# sep specifies the column delimiter\n",
    "df = pd.read_csv(url, sep=';')\n",
    "print(df.head())\n"
   ]
  },
  {
   "cell_type": "markdown",
   "metadata": {},
   "source": [
    "## Step 2: Format the data\n",
    "Once we have all the raw data in a `dataframe` we can focus on the transformations for making it's use easier."
   ]
  },
  {
   "cell_type": "markdown",
   "metadata": {},
   "source": [
    "### 2.1 Remove unwanted data\n",
    "We will remove all data that is not related with NO2, We only care about all the data with Magnitud = 08. Once the data is removed, the column no longer makes sense."
   ]
  },
  {
   "cell_type": "code",
   "execution_count": 22,
   "metadata": {},
   "outputs": [],
   "source": [
    "nitrogen_dioxide_df = df.loc[df['MAGNITUD'] == 8]"
   ]
  },
  {
   "cell_type": "code",
   "execution_count": 23,
   "metadata": {
    "scrolled": true
   },
   "outputs": [],
   "source": [
    "nitrogen_dioxide_df = nitrogen_dioxide_df.drop(columns=['MAGNITUD'])"
   ]
  },
  {
   "cell_type": "code",
   "execution_count": 24,
   "metadata": {},
   "outputs": [
    {
     "name": "stdout",
     "output_type": "stream",
     "text": [
      "    PROVINCIA  MUNICIPIO  ESTACION PUNTO_MUESTREO   ANO  MES   D01 V01   D02  \\\n",
      "36         28         79         4   28079004_8_8  2018    1  21.0   V  29.0   \n",
      "37         28         79         4   28079004_8_8  2018    2  58.0   V  47.0   \n",
      "38         28         79         4   28079004_8_8  2018    3  35.0   V  53.0   \n",
      "39         28         79         4   28079004_8_8  2018    4  38.0   V  40.0   \n",
      "40         28         79         4   28079004_8_8  2018    5  25.0   V  29.0   \n",
      "\n",
      "   V02  ...   D27 V27   D28 V28   D29 V29   D30 V30   D31 V31  \n",
      "36   V  ...  26.0   V  22.0   V  67.0   V  61.0   V  74.0   V  \n",
      "37   V  ...  55.0   V  52.0   V   0.0   N   0.0   N   0.0   N  \n",
      "38   V  ...  40.0   V  41.0   V  14.0   V   9.0   V  16.0   V  \n",
      "39   V  ...  26.0   V  14.0   V  13.0   V  24.0   V   0.0   N  \n",
      "40   V  ...  26.0   V  32.0   V  47.0   V  35.0   V  31.0   V  \n",
      "\n",
      "[5 rows x 68 columns]\n"
     ]
    }
   ],
   "source": [
    "print(nitrogen_dioxide_df.head())"
   ]
  },
  {
   "cell_type": "code",
   "execution_count": null,
   "metadata": {},
   "outputs": [],
   "source": []
  }
 ],
 "metadata": {
  "kernelspec": {
   "display_name": "Python 3",
   "language": "python",
   "name": "python3"
  },
  "language_info": {
   "codemirror_mode": {
    "name": "ipython",
    "version": 3
   },
   "file_extension": ".py",
   "mimetype": "text/x-python",
   "name": "python",
   "nbconvert_exporter": "python",
   "pygments_lexer": "ipython3",
   "version": "3.7.2"
  }
 },
 "nbformat": 4,
 "nbformat_minor": 4
}
